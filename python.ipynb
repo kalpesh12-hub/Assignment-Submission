{
  "nbformat": 4,
  "nbformat_minor": 0,
  "metadata": {
    "colab": {
      "name": "python.ipynb",
      "provenance": [],
      "collapsed_sections": [],
      "authorship_tag": "ABX9TyPBSlN8sydAsayx8vPN9gSq",
      "include_colab_link": true
    },
    "kernelspec": {
      "name": "python3",
      "display_name": "Python 3"
    },
    "language_info": {
      "name": "python"
    }
  },
  "cells": [
    {
      "cell_type": "markdown",
      "metadata": {
        "id": "view-in-github",
        "colab_type": "text"
      },
      "source": [
        "<a href=\"https://colab.research.google.com/github/kalpesh12-hub/Assignment-Submission/blob/main/python.ipynb\" target=\"_parent\"><img src=\"https://colab.research.google.com/assets/colab-badge.svg\" alt=\"Open In Colab\"/></a>"
      ]
    },
    {
      "cell_type": "code",
      "metadata": {
        "colab": {
          "base_uri": "https://localhost:8080/"
        },
        "id": "8IUR512DmGQb",
        "outputId": "c5238c98-954a-476c-d52c-a964deda968a"
      },
      "source": [
        "x = 100\n",
        "y = 10.9\n",
        "z = 10+6j\n",
        "\n",
        "print(\"x is:\")\n",
        "print(type(x))\n",
        "print(\"y is:\")\n",
        "print(type(y))\n",
        "print(\"z is:\")\n",
        "print(type(z))\n",
        "print(\"Enter number one:\")\n",
        "print(x)\n",
        "print(\"Enter number two\")\n",
        "print(y)\n",
        "print(\"Sum of the number is:\")\n",
        "print(x+y)\n",
        "print(\"Enter number three:\")\n",
        "print(z)\n",
        "print(\"Sum of all number is:\")\n",
        "print(x+y+z)\n"
      ],
      "execution_count": 9,
      "outputs": [
        {
          "output_type": "stream",
          "name": "stdout",
          "text": [
            "x is:\n",
            "<class 'int'>\n",
            "y is:\n",
            "<class 'float'>\n",
            "z is:\n",
            "<class 'complex'>\n",
            "Enter number one:\n",
            "100\n",
            "Enter number two\n",
            "10.9\n",
            "Sum of the number is:\n",
            "110.9\n",
            "Enter number three:\n",
            "(10+6j)\n",
            "Sum of all number is:\n",
            "(120.9+6j)\n"
          ]
        }
      ]
    },
    {
      "cell_type": "markdown",
      "metadata": {
        "id": "c-EcRR5jmc9p"
      },
      "source": [
        "numbers : (a) int 1,2\n",
        "(b) float 10.2\n",
        "(c) complex 10j"
      ]
    },
    {
      "cell_type": "markdown",
      "metadata": {
        "id": "u5WjbryEmu_y"
      },
      "source": [
        ""
      ]
    }
  ]
}