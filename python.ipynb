{
  "nbformat": 4,
  "nbformat_minor": 0,
  "metadata": {
    "colab": {
      "name": "python.ipynb",
      "provenance": [],
      "collapsed_sections": [],
      "authorship_tag": "ABX9TyNjxcoBwPtUMB8lMtej2b4K",
      "include_colab_link": true
    },
    "kernelspec": {
      "name": "python3",
      "display_name": "Python 3"
    },
    "language_info": {
      "name": "python"
    }
  },
  "cells": [
    {
      "cell_type": "markdown",
      "metadata": {
        "id": "view-in-github",
        "colab_type": "text"
      },
      "source": [
        "<a href=\"https://colab.research.google.com/github/kalpesh12-hub/Assignment-Submission/blob/main/python.ipynb\" target=\"_parent\"><img src=\"https://colab.research.google.com/assets/colab-badge.svg\" alt=\"Open In Colab\"/></a>"
      ]
    },
    {
      "cell_type": "code",
      "metadata": {
        "colab": {
          "base_uri": "https://localhost:8080/"
        },
        "id": "8IUR512DmGQb",
        "outputId": "9fcad96a-66e1-49c2-c8b0-2a8129e65842"
      },
      "source": [
        "import random\n",
        "print(random.randrange(5,9))\n"
      ],
      "execution_count": 20,
      "outputs": [
        {
          "output_type": "stream",
          "name": "stdout",
          "text": [
            "5\n"
          ]
        }
      ]
    },
    {
      "cell_type": "markdown",
      "metadata": {
        "id": "c-EcRR5jmc9p"
      },
      "source": [
        "numbers : (a) int 1,2\n",
        "(b) float 10.2\n",
        "(c) complex 10j"
      ]
    },
    {
      "cell_type": "markdown",
      "metadata": {
        "id": "u5WjbryEmu_y"
      },
      "source": [
        ""
      ]
    }
  ]
}